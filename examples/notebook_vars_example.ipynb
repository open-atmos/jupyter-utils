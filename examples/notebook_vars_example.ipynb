{
 "cells": [
  {
   "cell_type": "code",
   "execution_count": 1,
   "id": "51913260-f89a-4237-bc7b-af5a0b1785f9",
   "metadata": {},
   "outputs": [],
   "source": [
    "a = 44\n",
    "b = 666\n"
    "c = a + b"
   ]
  }
 },
 "nbformat": 4,
 "nbformat_minor": 5
}
