{
 "cells": [
  {
   "cell_type": "code",
   "execution_count": 1,
   "id": "51913260-f89a-4237-bc7b-af5a0b1785f9",
   "metadata": {},
   "outputs": [],
   "source": [
    "a = 44\n",
    "b = 666\n",
    "c = a + b"
   ]
  }
 ],
 "metadata": {
  "kernelspec": {
   "display_name": "Python 3 (ipykernel)",
   "language": "python",
   "name": "python3"
  },  
  "language_info": {
   "codemirror_mode": {
    "name": "ipython",
    "version": 3
   },  
   "file_extension": ".py",
   "mimetype": "text/x-python",
   "name": "python",
   "nbconvert_exporter": "python",
   "pygments_lexer": "ipython3",
   "version": "3.12.7"
  }
 },
 "nbformat": 4,
 "nbformat_minor": 5
}
