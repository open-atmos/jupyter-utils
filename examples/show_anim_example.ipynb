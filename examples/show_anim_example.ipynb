{
 "cells": [
  {
   "cell_type": "code",
   "execution_count": null,
   "id": "51913260-f89a-4237-bc7b-af5a0b1785f9",
   "metadata": {},
   "outputs": [],
   "source": [
    "import matplotlib.pyplot as plt\n",
    "import numpy as np\n",
    "def anim_func(frame):\n",
    "    fig = plt.figure(figsize=(9,6))\n",
    "    ax = fig.add_subplot(111)\n",
    "    x = np.linspace(0,2,1000)\n",
    "    y = np.sin(2*np.pi*(x+0.01*frame))\n",
    "    ax.plot(x,y)    \n",
    "    return fig"
   ]
  },
  {
   "cell_type": "code",
   "execution_count": null,
   "id": "4778deb3-b660-4c3d-a0bf-700ba7d9b93f",
   "metadata": {},
   "outputs": [],
   "source": [
    "from open_atmos_jupyter_utils.show_anim import show_anim \n",
    "\n",
    "frame_range = range(0,50,1)\n",
    "show_anim(anim_func, frame_range)"
   ]
  }
 ],
 "metadata": {
  "kernelspec": {
   "display_name": "",
   "name": ""
  },
  "language_info": {
   "name": ""
  }
 },
 "nbformat": 4,
 "nbformat_minor": 5
}
